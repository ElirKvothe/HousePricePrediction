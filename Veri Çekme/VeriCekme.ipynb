{
 "cells": [
  {
   "cell_type": "code",
   "execution_count": 1,
   "id": "a0898ae6",
   "metadata": {},
   "outputs": [
    {
     "name": "stdout",
     "output_type": "stream",
     "text": [
      "Veriler başarıyla CSV dosyasına aktarıldı.\n"
     ]
    }
   ],
   "source": [
    "import requests\n",
    "from bs4 import BeautifulSoup\n",
    "import csv\n",
    "\n",
    "headers = {\n",
    "    'User-Agent': 'Mozilla/5.0 (Windows NT 10.0; Win64; x64) AppleWebKit/537.36 (KHTML, like Gecko) Chrome/58.0.3029.110 Safari/537.36',\n",
    "}\n",
    "\n",
    "# Tüm sayfaları dolaşmak için bir döngü oluşturun\n",
    "for page_num in range(1,60):  # Örnek olarak 1'den 10'a kadar sayfa numaralarını dolaşabilirsiniz\n",
    "    url = f\"https://www.hepsiemlak.com/izmir-satilik/daire?page={page_num}\"\n",
    "\n",
    "    response = requests.get(url, headers=headers)\n",
    "    html_content = response.content\n",
    "    soup = BeautifulSoup(html_content, \"html.parser\")\n",
    "\n",
    "    prices = soup.find_all(\"span\", {\"class\": \"list-view-price\"})\n",
    "    rooms = soup.find_all(\"span\", {\"class\": \"celly houseRoomCount\"})\n",
    "    sizes = soup.find_all(\"span\", {\"class\": \"celly squareMeter list-view-size\"})\n",
    "    flat = soup.find_all(\"span\", {\"class\": \"celly floortype\"})\n",
    "    location = soup.find_all(\"div\", {\"class\": \"list-view-location\"})\n",
    "\n",
    "    with open('emlak_verileri35.csv', 'a', newline='',encoding='utf-8') as csv_file:  # 'a' modunda açın (ekleme modu)\n",
    "        csv_writer = csv.writer(csv_file)\n",
    "\n",
    "        if page_num == 1:  # İlk sayfadaysanız, başlık satırını yazın\n",
    "            csv_writer.writerow([\"Metrekare\", \"Oda\", \"Kat\", \"Konum\", \"Fiyat\"])\n",
    "\n",
    "        for room, price, size, flat, loc in zip(rooms, prices, sizes, flat, location):\n",
    "            price_text = price.text.strip().replace(\"\\n\", \"\").replace(\"TL\", \"\")\n",
    "            size_text = size.text.strip().replace(\"\\n\", \"\").replace(\"m2\",\"\")\n",
    "            flat_text = flat.text.strip().replace(\"\\n\", \"\").replace(\". Kat\", \"\")\n",
    "            loc_text = loc.text.strip().replace(\"\\n\", \"\").strip().strip()\n",
    "            room_text = room.text.strip().replace(\"\\n\", \"\")\n",
    "\n",
    "            csv_writer.writerow([size_text, room_text, flat_text, loc_text, price_text])\n",
    "\n",
    "print(\"Veriler başarıyla CSV dosyasına aktarıldı.\")"
   ]
  },
  {
   "cell_type": "code",
   "execution_count": null,
   "id": "5b934e48",
   "metadata": {},
   "outputs": [],
   "source": []
  }
 ],
 "metadata": {
  "kernelspec": {
   "display_name": "Python 3 (ipykernel)",
   "language": "python",
   "name": "python3"
  },
  "language_info": {
   "codemirror_mode": {
    "name": "ipython",
    "version": 3
   },
   "file_extension": ".py",
   "mimetype": "text/x-python",
   "name": "python",
   "nbconvert_exporter": "python",
   "pygments_lexer": "ipython3",
   "version": "3.11.5"
  }
 },
 "nbformat": 4,
 "nbformat_minor": 5
}
