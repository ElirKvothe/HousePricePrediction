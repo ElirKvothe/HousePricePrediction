{
 "cells": [
  {
   "cell_type": "code",
   "execution_count": 1,
   "id": "54b2709e",
   "metadata": {},
   "outputs": [],
   "source": [
    "import pandas as pd\n",
    "import numpy as np\n",
    "import matplotlib.pyplot as plt\n",
    "import seaborn as sns"
   ]
  },
  {
   "cell_type": "code",
   "execution_count": 2,
   "id": "598d0a1f",
   "metadata": {},
   "outputs": [
    {
     "ename": "FileNotFoundError",
     "evalue": "[Errno 2] No such file or directory: 'emlak_verileri2.csv'",
     "output_type": "error",
     "traceback": [
      "\u001b[1;31m---------------------------------------------------------------------------\u001b[0m",
      "\u001b[1;31mFileNotFoundError\u001b[0m                         Traceback (most recent call last)",
      "Cell \u001b[1;32mIn[2], line 1\u001b[0m\n\u001b[1;32m----> 1\u001b[0m data \u001b[38;5;241m=\u001b[39m pd\u001b[38;5;241m.\u001b[39mread_csv(\u001b[38;5;124m\"\u001b[39m\u001b[38;5;124memlak_verileri2.csv\u001b[39m\u001b[38;5;124m\"\u001b[39m, sep\u001b[38;5;241m=\u001b[39m\u001b[38;5;124m'\u001b[39m\u001b[38;5;124m;\u001b[39m\u001b[38;5;124m'\u001b[39m)\n",
      "File \u001b[1;32m~\\anaconda3\\Lib\\site-packages\\pandas\\io\\parsers\\readers.py:912\u001b[0m, in \u001b[0;36mread_csv\u001b[1;34m(filepath_or_buffer, sep, delimiter, header, names, index_col, usecols, dtype, engine, converters, true_values, false_values, skipinitialspace, skiprows, skipfooter, nrows, na_values, keep_default_na, na_filter, verbose, skip_blank_lines, parse_dates, infer_datetime_format, keep_date_col, date_parser, date_format, dayfirst, cache_dates, iterator, chunksize, compression, thousands, decimal, lineterminator, quotechar, quoting, doublequote, escapechar, comment, encoding, encoding_errors, dialect, on_bad_lines, delim_whitespace, low_memory, memory_map, float_precision, storage_options, dtype_backend)\u001b[0m\n\u001b[0;32m    899\u001b[0m kwds_defaults \u001b[38;5;241m=\u001b[39m _refine_defaults_read(\n\u001b[0;32m    900\u001b[0m     dialect,\n\u001b[0;32m    901\u001b[0m     delimiter,\n\u001b[1;32m   (...)\u001b[0m\n\u001b[0;32m    908\u001b[0m     dtype_backend\u001b[38;5;241m=\u001b[39mdtype_backend,\n\u001b[0;32m    909\u001b[0m )\n\u001b[0;32m    910\u001b[0m kwds\u001b[38;5;241m.\u001b[39mupdate(kwds_defaults)\n\u001b[1;32m--> 912\u001b[0m \u001b[38;5;28;01mreturn\u001b[39;00m _read(filepath_or_buffer, kwds)\n",
      "File \u001b[1;32m~\\anaconda3\\Lib\\site-packages\\pandas\\io\\parsers\\readers.py:577\u001b[0m, in \u001b[0;36m_read\u001b[1;34m(filepath_or_buffer, kwds)\u001b[0m\n\u001b[0;32m    574\u001b[0m _validate_names(kwds\u001b[38;5;241m.\u001b[39mget(\u001b[38;5;124m\"\u001b[39m\u001b[38;5;124mnames\u001b[39m\u001b[38;5;124m\"\u001b[39m, \u001b[38;5;28;01mNone\u001b[39;00m))\n\u001b[0;32m    576\u001b[0m \u001b[38;5;66;03m# Create the parser.\u001b[39;00m\n\u001b[1;32m--> 577\u001b[0m parser \u001b[38;5;241m=\u001b[39m TextFileReader(filepath_or_buffer, \u001b[38;5;241m*\u001b[39m\u001b[38;5;241m*\u001b[39mkwds)\n\u001b[0;32m    579\u001b[0m \u001b[38;5;28;01mif\u001b[39;00m chunksize \u001b[38;5;129;01mor\u001b[39;00m iterator:\n\u001b[0;32m    580\u001b[0m     \u001b[38;5;28;01mreturn\u001b[39;00m parser\n",
      "File \u001b[1;32m~\\anaconda3\\Lib\\site-packages\\pandas\\io\\parsers\\readers.py:1407\u001b[0m, in \u001b[0;36mTextFileReader.__init__\u001b[1;34m(self, f, engine, **kwds)\u001b[0m\n\u001b[0;32m   1404\u001b[0m     \u001b[38;5;28mself\u001b[39m\u001b[38;5;241m.\u001b[39moptions[\u001b[38;5;124m\"\u001b[39m\u001b[38;5;124mhas_index_names\u001b[39m\u001b[38;5;124m\"\u001b[39m] \u001b[38;5;241m=\u001b[39m kwds[\u001b[38;5;124m\"\u001b[39m\u001b[38;5;124mhas_index_names\u001b[39m\u001b[38;5;124m\"\u001b[39m]\n\u001b[0;32m   1406\u001b[0m \u001b[38;5;28mself\u001b[39m\u001b[38;5;241m.\u001b[39mhandles: IOHandles \u001b[38;5;241m|\u001b[39m \u001b[38;5;28;01mNone\u001b[39;00m \u001b[38;5;241m=\u001b[39m \u001b[38;5;28;01mNone\u001b[39;00m\n\u001b[1;32m-> 1407\u001b[0m \u001b[38;5;28mself\u001b[39m\u001b[38;5;241m.\u001b[39m_engine \u001b[38;5;241m=\u001b[39m \u001b[38;5;28mself\u001b[39m\u001b[38;5;241m.\u001b[39m_make_engine(f, \u001b[38;5;28mself\u001b[39m\u001b[38;5;241m.\u001b[39mengine)\n",
      "File \u001b[1;32m~\\anaconda3\\Lib\\site-packages\\pandas\\io\\parsers\\readers.py:1661\u001b[0m, in \u001b[0;36mTextFileReader._make_engine\u001b[1;34m(self, f, engine)\u001b[0m\n\u001b[0;32m   1659\u001b[0m     \u001b[38;5;28;01mif\u001b[39;00m \u001b[38;5;124m\"\u001b[39m\u001b[38;5;124mb\u001b[39m\u001b[38;5;124m\"\u001b[39m \u001b[38;5;129;01mnot\u001b[39;00m \u001b[38;5;129;01min\u001b[39;00m mode:\n\u001b[0;32m   1660\u001b[0m         mode \u001b[38;5;241m+\u001b[39m\u001b[38;5;241m=\u001b[39m \u001b[38;5;124m\"\u001b[39m\u001b[38;5;124mb\u001b[39m\u001b[38;5;124m\"\u001b[39m\n\u001b[1;32m-> 1661\u001b[0m \u001b[38;5;28mself\u001b[39m\u001b[38;5;241m.\u001b[39mhandles \u001b[38;5;241m=\u001b[39m get_handle(\n\u001b[0;32m   1662\u001b[0m     f,\n\u001b[0;32m   1663\u001b[0m     mode,\n\u001b[0;32m   1664\u001b[0m     encoding\u001b[38;5;241m=\u001b[39m\u001b[38;5;28mself\u001b[39m\u001b[38;5;241m.\u001b[39moptions\u001b[38;5;241m.\u001b[39mget(\u001b[38;5;124m\"\u001b[39m\u001b[38;5;124mencoding\u001b[39m\u001b[38;5;124m\"\u001b[39m, \u001b[38;5;28;01mNone\u001b[39;00m),\n\u001b[0;32m   1665\u001b[0m     compression\u001b[38;5;241m=\u001b[39m\u001b[38;5;28mself\u001b[39m\u001b[38;5;241m.\u001b[39moptions\u001b[38;5;241m.\u001b[39mget(\u001b[38;5;124m\"\u001b[39m\u001b[38;5;124mcompression\u001b[39m\u001b[38;5;124m\"\u001b[39m, \u001b[38;5;28;01mNone\u001b[39;00m),\n\u001b[0;32m   1666\u001b[0m     memory_map\u001b[38;5;241m=\u001b[39m\u001b[38;5;28mself\u001b[39m\u001b[38;5;241m.\u001b[39moptions\u001b[38;5;241m.\u001b[39mget(\u001b[38;5;124m\"\u001b[39m\u001b[38;5;124mmemory_map\u001b[39m\u001b[38;5;124m\"\u001b[39m, \u001b[38;5;28;01mFalse\u001b[39;00m),\n\u001b[0;32m   1667\u001b[0m     is_text\u001b[38;5;241m=\u001b[39mis_text,\n\u001b[0;32m   1668\u001b[0m     errors\u001b[38;5;241m=\u001b[39m\u001b[38;5;28mself\u001b[39m\u001b[38;5;241m.\u001b[39moptions\u001b[38;5;241m.\u001b[39mget(\u001b[38;5;124m\"\u001b[39m\u001b[38;5;124mencoding_errors\u001b[39m\u001b[38;5;124m\"\u001b[39m, \u001b[38;5;124m\"\u001b[39m\u001b[38;5;124mstrict\u001b[39m\u001b[38;5;124m\"\u001b[39m),\n\u001b[0;32m   1669\u001b[0m     storage_options\u001b[38;5;241m=\u001b[39m\u001b[38;5;28mself\u001b[39m\u001b[38;5;241m.\u001b[39moptions\u001b[38;5;241m.\u001b[39mget(\u001b[38;5;124m\"\u001b[39m\u001b[38;5;124mstorage_options\u001b[39m\u001b[38;5;124m\"\u001b[39m, \u001b[38;5;28;01mNone\u001b[39;00m),\n\u001b[0;32m   1670\u001b[0m )\n\u001b[0;32m   1671\u001b[0m \u001b[38;5;28;01massert\u001b[39;00m \u001b[38;5;28mself\u001b[39m\u001b[38;5;241m.\u001b[39mhandles \u001b[38;5;129;01mis\u001b[39;00m \u001b[38;5;129;01mnot\u001b[39;00m \u001b[38;5;28;01mNone\u001b[39;00m\n\u001b[0;32m   1672\u001b[0m f \u001b[38;5;241m=\u001b[39m \u001b[38;5;28mself\u001b[39m\u001b[38;5;241m.\u001b[39mhandles\u001b[38;5;241m.\u001b[39mhandle\n",
      "File \u001b[1;32m~\\anaconda3\\Lib\\site-packages\\pandas\\io\\common.py:859\u001b[0m, in \u001b[0;36mget_handle\u001b[1;34m(path_or_buf, mode, encoding, compression, memory_map, is_text, errors, storage_options)\u001b[0m\n\u001b[0;32m    854\u001b[0m \u001b[38;5;28;01melif\u001b[39;00m \u001b[38;5;28misinstance\u001b[39m(handle, \u001b[38;5;28mstr\u001b[39m):\n\u001b[0;32m    855\u001b[0m     \u001b[38;5;66;03m# Check whether the filename is to be opened in binary mode.\u001b[39;00m\n\u001b[0;32m    856\u001b[0m     \u001b[38;5;66;03m# Binary mode does not support 'encoding' and 'newline'.\u001b[39;00m\n\u001b[0;32m    857\u001b[0m     \u001b[38;5;28;01mif\u001b[39;00m ioargs\u001b[38;5;241m.\u001b[39mencoding \u001b[38;5;129;01mand\u001b[39;00m \u001b[38;5;124m\"\u001b[39m\u001b[38;5;124mb\u001b[39m\u001b[38;5;124m\"\u001b[39m \u001b[38;5;129;01mnot\u001b[39;00m \u001b[38;5;129;01min\u001b[39;00m ioargs\u001b[38;5;241m.\u001b[39mmode:\n\u001b[0;32m    858\u001b[0m         \u001b[38;5;66;03m# Encoding\u001b[39;00m\n\u001b[1;32m--> 859\u001b[0m         handle \u001b[38;5;241m=\u001b[39m \u001b[38;5;28mopen\u001b[39m(\n\u001b[0;32m    860\u001b[0m             handle,\n\u001b[0;32m    861\u001b[0m             ioargs\u001b[38;5;241m.\u001b[39mmode,\n\u001b[0;32m    862\u001b[0m             encoding\u001b[38;5;241m=\u001b[39mioargs\u001b[38;5;241m.\u001b[39mencoding,\n\u001b[0;32m    863\u001b[0m             errors\u001b[38;5;241m=\u001b[39merrors,\n\u001b[0;32m    864\u001b[0m             newline\u001b[38;5;241m=\u001b[39m\u001b[38;5;124m\"\u001b[39m\u001b[38;5;124m\"\u001b[39m,\n\u001b[0;32m    865\u001b[0m         )\n\u001b[0;32m    866\u001b[0m     \u001b[38;5;28;01melse\u001b[39;00m:\n\u001b[0;32m    867\u001b[0m         \u001b[38;5;66;03m# Binary mode\u001b[39;00m\n\u001b[0;32m    868\u001b[0m         handle \u001b[38;5;241m=\u001b[39m \u001b[38;5;28mopen\u001b[39m(handle, ioargs\u001b[38;5;241m.\u001b[39mmode)\n",
      "\u001b[1;31mFileNotFoundError\u001b[0m: [Errno 2] No such file or directory: 'emlak_verileri2.csv'"
     ]
    }
   ],
   "source": [
    "data = pd.read_csv(\"emlak_verileri2.csv\", sep=';')"
   ]
  },
  {
   "cell_type": "code",
   "execution_count": 36,
   "id": "a2e8b2ab",
   "metadata": {},
   "outputs": [
    {
     "data": {
      "text/plain": [
       "Index(['Metrekare', 'Oda', 'Kat', 'Konum', 'Fiyat'], dtype='object')"
      ]
     },
     "execution_count": 36,
     "metadata": {},
     "output_type": "execute_result"
    }
   ],
   "source": [
    "data.columns"
   ]
  },
  {
   "cell_type": "code",
   "execution_count": 37,
   "id": "892fd2aa",
   "metadata": {},
   "outputs": [
    {
     "data": {
      "text/html": [
       "<div>\n",
       "<style scoped>\n",
       "    .dataframe tbody tr th:only-of-type {\n",
       "        vertical-align: middle;\n",
       "    }\n",
       "\n",
       "    .dataframe tbody tr th {\n",
       "        vertical-align: top;\n",
       "    }\n",
       "\n",
       "    .dataframe thead th {\n",
       "        text-align: right;\n",
       "    }\n",
       "</style>\n",
       "<table border=\"1\" class=\"dataframe\">\n",
       "  <thead>\n",
       "    <tr style=\"text-align: right;\">\n",
       "      <th></th>\n",
       "      <th>Metrekare</th>\n",
       "      <th>Oda</th>\n",
       "      <th>Kat</th>\n",
       "      <th>Konum</th>\n",
       "      <th>Fiyat</th>\n",
       "    </tr>\n",
       "  </thead>\n",
       "  <tbody>\n",
       "    <tr>\n",
       "      <th>0</th>\n",
       "      <td>160.0</td>\n",
       "      <td>3 + 1</td>\n",
       "      <td>2.0</td>\n",
       "      <td>Torbalı, Alpkent Mahallesi</td>\n",
       "      <td>4200000.0</td>\n",
       "    </tr>\n",
       "    <tr>\n",
       "      <th>1</th>\n",
       "      <td>155.0</td>\n",
       "      <td>3 + 1</td>\n",
       "      <td>2.0</td>\n",
       "      <td>Torbalı, Torbalı Mahallesi</td>\n",
       "      <td>2984000.0</td>\n",
       "    </tr>\n",
       "    <tr>\n",
       "      <th>2</th>\n",
       "      <td>105.0</td>\n",
       "      <td>2 + 1</td>\n",
       "      <td>5.0</td>\n",
       "      <td>Torbalı, Tepeköy Mahallesi</td>\n",
       "      <td>2349000.0</td>\n",
       "    </tr>\n",
       "    <tr>\n",
       "      <th>3</th>\n",
       "      <td>90.0</td>\n",
       "      <td>2 + 1</td>\n",
       "      <td>1.0</td>\n",
       "      <td>Buca, Göksu Mahallesi</td>\n",
       "      <td>2100000.0</td>\n",
       "    </tr>\n",
       "    <tr>\n",
       "      <th>4</th>\n",
       "      <td>135.0</td>\n",
       "      <td>3 + 1</td>\n",
       "      <td>6.0</td>\n",
       "      <td>Bornova, Erzene Mahallesi</td>\n",
       "      <td>4450000.0</td>\n",
       "    </tr>\n",
       "  </tbody>\n",
       "</table>\n",
       "</div>"
      ],
      "text/plain": [
       "   Metrekare    Oda  Kat                       Konum      Fiyat\n",
       "0      160.0  3 + 1  2.0  Torbalı, Alpkent Mahallesi  4200000.0\n",
       "1      155.0  3 + 1  2.0  Torbalı, Torbalı Mahallesi  2984000.0\n",
       "2      105.0  2 + 1  5.0  Torbalı, Tepeköy Mahallesi  2349000.0\n",
       "3       90.0  2 + 1  1.0       Buca, Göksu Mahallesi  2100000.0\n",
       "4      135.0  3 + 1  6.0   Bornova, Erzene Mahallesi  4450000.0"
      ]
     },
     "execution_count": 37,
     "metadata": {},
     "output_type": "execute_result"
    }
   ],
   "source": [
    "data.head()"
   ]
  },
  {
   "cell_type": "code",
   "execution_count": 38,
   "id": "de31d46f",
   "metadata": {},
   "outputs": [
    {
     "name": "stdout",
     "output_type": "stream",
     "text": [
      "<class 'pandas.core.frame.DataFrame'>\n",
      "RangeIndex: 1364 entries, 0 to 1363\n",
      "Data columns (total 5 columns):\n",
      " #   Column     Non-Null Count  Dtype  \n",
      "---  ------     --------------  -----  \n",
      " 0   Metrekare  1332 non-null   float64\n",
      " 1   Oda        1332 non-null   object \n",
      " 2   Kat        1332 non-null   float64\n",
      " 3   Konum      1332 non-null   object \n",
      " 4   Fiyat      1332 non-null   float64\n",
      "dtypes: float64(3), object(2)\n",
      "memory usage: 53.4+ KB\n"
     ]
    }
   ],
   "source": [
    "data.info()"
   ]
  },
  {
   "cell_type": "code",
   "execution_count": 39,
   "id": "c53fd4a9",
   "metadata": {},
   "outputs": [],
   "source": [
    "def oda_donusumu(odabilgi):\n",
    "    if isinstance(odabilgi, str):\n",
    "        # String değerse dönüşümü gerçekleştir\n",
    "        oda_sayisi = int(odabilgi.split('+')[0].strip())\n",
    "        return oda_sayisi\n",
    "    else:\n",
    "        # Zaten sayısal bir değerse dokunma\n",
    "        return odabilgi\n",
    "\n",
    "# 'Oda' sütununu dönüştürme\n",
    "data['Oda'] = data['Oda'].apply(oda_donusumu)"
   ]
  },
  {
   "cell_type": "code",
   "execution_count": 40,
   "id": "0346e0d5",
   "metadata": {},
   "outputs": [
    {
     "name": "stdout",
     "output_type": "stream",
     "text": [
      "<class 'pandas.core.frame.DataFrame'>\n",
      "RangeIndex: 1364 entries, 0 to 1363\n",
      "Data columns (total 5 columns):\n",
      " #   Column     Non-Null Count  Dtype  \n",
      "---  ------     --------------  -----  \n",
      " 0   Metrekare  1332 non-null   float64\n",
      " 1   Oda        1332 non-null   float64\n",
      " 2   Kat        1332 non-null   float64\n",
      " 3   Konum      1332 non-null   object \n",
      " 4   Fiyat      1332 non-null   float64\n",
      "dtypes: float64(4), object(1)\n",
      "memory usage: 53.4+ KB\n"
     ]
    }
   ],
   "source": [
    "data.info()"
   ]
  },
  {
   "cell_type": "code",
   "execution_count": 41,
   "id": "e06d1249",
   "metadata": {},
   "outputs": [],
   "source": [
    "def konum_duzenle(konum):\n",
    "    if isinstance(konum, str):\n",
    "        # String değerse dönüşümü gerçekleştir\n",
    "        return konum.split(',')[0].strip()\n",
    "    else:\n",
    "        # Zaten sayısal bir değerse dokunma\n",
    "        return konum\n",
    "\n",
    "# 'Konum' sütununu düzenleme\n",
    "data['Konum'] = data['Konum'].apply(konum_duzenle)"
   ]
  },
  {
   "cell_type": "code",
   "execution_count": 42,
   "id": "ad59fce3",
   "metadata": {},
   "outputs": [
    {
     "name": "stdout",
     "output_type": "stream",
     "text": [
      "<class 'pandas.core.frame.DataFrame'>\n",
      "RangeIndex: 1364 entries, 0 to 1363\n",
      "Data columns (total 5 columns):\n",
      " #   Column     Non-Null Count  Dtype  \n",
      "---  ------     --------------  -----  \n",
      " 0   Metrekare  1332 non-null   float64\n",
      " 1   Oda        1332 non-null   float64\n",
      " 2   Kat        1332 non-null   float64\n",
      " 3   Konum      1332 non-null   object \n",
      " 4   Fiyat      1332 non-null   float64\n",
      "dtypes: float64(4), object(1)\n",
      "memory usage: 53.4+ KB\n"
     ]
    }
   ],
   "source": [
    "data.info()"
   ]
  },
  {
   "cell_type": "code",
   "execution_count": 43,
   "id": "2ee96da1",
   "metadata": {},
   "outputs": [
    {
     "data": {
      "text/html": [
       "<div>\n",
       "<style scoped>\n",
       "    .dataframe tbody tr th:only-of-type {\n",
       "        vertical-align: middle;\n",
       "    }\n",
       "\n",
       "    .dataframe tbody tr th {\n",
       "        vertical-align: top;\n",
       "    }\n",
       "\n",
       "    .dataframe thead th {\n",
       "        text-align: right;\n",
       "    }\n",
       "</style>\n",
       "<table border=\"1\" class=\"dataframe\">\n",
       "  <thead>\n",
       "    <tr style=\"text-align: right;\">\n",
       "      <th></th>\n",
       "      <th>Metrekare</th>\n",
       "      <th>Oda</th>\n",
       "      <th>Kat</th>\n",
       "      <th>Konum</th>\n",
       "      <th>Fiyat</th>\n",
       "    </tr>\n",
       "  </thead>\n",
       "  <tbody>\n",
       "    <tr>\n",
       "      <th>0</th>\n",
       "      <td>160.0</td>\n",
       "      <td>3.0</td>\n",
       "      <td>2.0</td>\n",
       "      <td>Torbalı</td>\n",
       "      <td>4200000.0</td>\n",
       "    </tr>\n",
       "    <tr>\n",
       "      <th>1</th>\n",
       "      <td>155.0</td>\n",
       "      <td>3.0</td>\n",
       "      <td>2.0</td>\n",
       "      <td>Torbalı</td>\n",
       "      <td>2984000.0</td>\n",
       "    </tr>\n",
       "    <tr>\n",
       "      <th>2</th>\n",
       "      <td>105.0</td>\n",
       "      <td>2.0</td>\n",
       "      <td>5.0</td>\n",
       "      <td>Torbalı</td>\n",
       "      <td>2349000.0</td>\n",
       "    </tr>\n",
       "    <tr>\n",
       "      <th>3</th>\n",
       "      <td>90.0</td>\n",
       "      <td>2.0</td>\n",
       "      <td>1.0</td>\n",
       "      <td>Buca</td>\n",
       "      <td>2100000.0</td>\n",
       "    </tr>\n",
       "    <tr>\n",
       "      <th>4</th>\n",
       "      <td>135.0</td>\n",
       "      <td>3.0</td>\n",
       "      <td>6.0</td>\n",
       "      <td>Bornova</td>\n",
       "      <td>4450000.0</td>\n",
       "    </tr>\n",
       "  </tbody>\n",
       "</table>\n",
       "</div>"
      ],
      "text/plain": [
       "   Metrekare  Oda  Kat    Konum      Fiyat\n",
       "0      160.0  3.0  2.0  Torbalı  4200000.0\n",
       "1      155.0  3.0  2.0  Torbalı  2984000.0\n",
       "2      105.0  2.0  5.0  Torbalı  2349000.0\n",
       "3       90.0  2.0  1.0     Buca  2100000.0\n",
       "4      135.0  3.0  6.0  Bornova  4450000.0"
      ]
     },
     "execution_count": 43,
     "metadata": {},
     "output_type": "execute_result"
    }
   ],
   "source": [
    "data.head()"
   ]
  },
  {
   "cell_type": "code",
   "execution_count": 49,
   "id": "9345b865",
   "metadata": {},
   "outputs": [],
   "source": [
    "data = pd.get_dummies(data, columns=['Konum'], prefix='Konum', drop_first=True)\n",
    "\n",
    "data = data.fillna(0)\n",
    "\n",
    "data = data.astype(int)"
   ]
  },
  {
   "cell_type": "code",
   "execution_count": 12,
   "id": "40d97717",
   "metadata": {},
   "outputs": [
    {
     "name": "stdout",
     "output_type": "stream",
     "text": [
      "<class 'pandas.core.frame.DataFrame'>\n",
      "RangeIndex: 1364 entries, 0 to 1363\n",
      "Data columns (total 29 columns):\n",
      " #   Column             Non-Null Count  Dtype\n",
      "---  ------             --------------  -----\n",
      " 0   Metrekare          1364 non-null   int32\n",
      " 1   Oda                1364 non-null   int32\n",
      " 2   Kat                1364 non-null   int32\n",
      " 3   Fiyat              1364 non-null   int32\n",
      " 4   Konum_Balçova      1364 non-null   int32\n",
      " 5   Konum_Bayraklı     1364 non-null   int32\n",
      " 6   Konum_Bergama      1364 non-null   int32\n",
      " 7   Konum_Bornova      1364 non-null   int32\n",
      " 8   Konum_Buca         1364 non-null   int32\n",
      " 9   Konum_Dikili       1364 non-null   int32\n",
      " 10  Konum_Foça         1364 non-null   int32\n",
      " 11  Konum_Gaziemir     1364 non-null   int32\n",
      " 12  Konum_Güzelbahçe   1364 non-null   int32\n",
      " 13  Konum_Karabağlar   1364 non-null   int32\n",
      " 14  Konum_Karaburun    1364 non-null   int32\n",
      " 15  Konum_Karşıyaka    1364 non-null   int32\n",
      " 16  Konum_Kemalpaşa    1364 non-null   int32\n",
      " 17  Konum_Konak        1364 non-null   int32\n",
      " 18  Konum_Menderes     1364 non-null   int32\n",
      " 19  Konum_Menemen      1364 non-null   int32\n",
      " 20  Konum_Narlıdere    1364 non-null   int32\n",
      " 21  Konum_Seferihisar  1364 non-null   int32\n",
      " 22  Konum_Selçuk       1364 non-null   int32\n",
      " 23  Konum_Tire         1364 non-null   int32\n",
      " 24  Konum_Torbalı      1364 non-null   int32\n",
      " 25  Konum_Urla         1364 non-null   int32\n",
      " 26  Konum_Çeşme        1364 non-null   int32\n",
      " 27  Konum_Çiğli        1364 non-null   int32\n",
      " 28  Konum_Ödemiş       1364 non-null   int32\n",
      "dtypes: int32(29)\n",
      "memory usage: 154.6 KB\n"
     ]
    }
   ],
   "source": [
    "data.info()"
   ]
  },
  {
   "cell_type": "code",
   "execution_count": 14,
   "id": "1aa47dad",
   "metadata": {},
   "outputs": [],
   "source": [
    "data.to_csv('IslenmisVeri.csv', index=False)"
   ]
  },
  {
   "cell_type": "code",
   "execution_count": 1,
   "id": "c5a8e256",
   "metadata": {},
   "outputs": [
    {
     "name": "stdout",
     "output_type": "stream",
     "text": [
      "<class 'pandas.core.frame.DataFrame'>\n",
      "RangeIndex: 1364 entries, 0 to 1363\n",
      "Data columns (total 29 columns):\n",
      " #   Column             Non-Null Count  Dtype\n",
      "---  ------             --------------  -----\n",
      " 0   Metrekare          1364 non-null   int64\n",
      " 1   Oda                1364 non-null   int64\n",
      " 2   Kat                1364 non-null   int64\n",
      " 3   Fiyat              1364 non-null   int64\n",
      " 4   Konum_Balçova      1364 non-null   int64\n",
      " 5   Konum_Bayraklı     1364 non-null   int64\n",
      " 6   Konum_Bergama      1364 non-null   int64\n",
      " 7   Konum_Bornova      1364 non-null   int64\n",
      " 8   Konum_Buca         1364 non-null   int64\n",
      " 9   Konum_Dikili       1364 non-null   int64\n",
      " 10  Konum_Foça         1364 non-null   int64\n",
      " 11  Konum_Gaziemir     1364 non-null   int64\n",
      " 12  Konum_Güzelbahçe   1364 non-null   int64\n",
      " 13  Konum_Karabağlar   1364 non-null   int64\n",
      " 14  Konum_Karaburun    1364 non-null   int64\n",
      " 15  Konum_Karşıyaka    1364 non-null   int64\n",
      " 16  Konum_Kemalpaşa    1364 non-null   int64\n",
      " 17  Konum_Konak        1364 non-null   int64\n",
      " 18  Konum_Menderes     1364 non-null   int64\n",
      " 19  Konum_Menemen      1364 non-null   int64\n",
      " 20  Konum_Narlıdere    1364 non-null   int64\n",
      " 21  Konum_Seferihisar  1364 non-null   int64\n",
      " 22  Konum_Selçuk       1364 non-null   int64\n",
      " 23  Konum_Tire         1364 non-null   int64\n",
      " 24  Konum_Torbalı      1364 non-null   int64\n",
      " 25  Konum_Urla         1364 non-null   int64\n",
      " 26  Konum_Çeşme        1364 non-null   int64\n",
      " 27  Konum_Çiğli        1364 non-null   int64\n",
      " 28  Konum_Ödemiş       1364 non-null   int64\n",
      "dtypes: int64(29)\n",
      "memory usage: 309.2 KB\n",
      "None\n",
      "Training R-squared: 0.4828\n",
      "Test R-squared: 0.4065\n"
     ]
    }
   ],
   "source": [
    "# Linear Regresyon Algoritmasi\n",
    "import pandas as pd\n",
    "from sklearn.model_selection import train_test_split\n",
    "from sklearn.linear_model import LinearRegression\n",
    "from sklearn.metrics import mean_squared_error, r2_score\n",
    "from sklearn.impute import SimpleImputer\n",
    "import joblib\n",
    "\n",
    "veri_seti = pd.read_csv('IslenmisVeri.csv')\n",
    "\n",
    "print(veri_seti.info())\n",
    "\n",
    "X = veri_seti.drop('Fiyat', axis=1)\n",
    "y = veri_seti['Fiyat']\n",
    "\n",
    "imputer_X = SimpleImputer(strategy='mean')\n",
    "X_imputed = imputer_X.fit_transform(X)\n",
    "\n",
    "imputer_y = SimpleImputer(strategy='mean')\n",
    "y_imputed = imputer_y.fit_transform(y.values.reshape(-1, 1)).flatten()\n",
    "\n",
    "X_train, X_test, y_train, y_test = train_test_split(X_imputed, y_imputed, test_size=0.2, random_state=42)\n",
    "\n",
    "model = LinearRegression()\n",
    "model.fit(X_train, y_train)\n",
    "\n",
    "y_train_pred = model.predict(X_train)\n",
    "\n",
    "y_test_pred = model.predict(X_test)\n",
    "\n",
    "r2_train = r2_score(y_train, y_train_pred)\n",
    "r2_test = r2_score(y_test, y_test_pred)\n",
    "\n",
    "print(f'Training R-squared: {r2_train:.4f}')\n",
    "print(f'Test R-squared: {r2_test:.4f}')"
   ]
  },
  {
   "cell_type": "code",
   "execution_count": 2,
   "id": "7b4867c2",
   "metadata": {},
   "outputs": [
    {
     "name": "stdout",
     "output_type": "stream",
     "text": [
      "<class 'pandas.core.frame.DataFrame'>\n",
      "RangeIndex: 1364 entries, 0 to 1363\n",
      "Data columns (total 29 columns):\n",
      " #   Column             Non-Null Count  Dtype\n",
      "---  ------             --------------  -----\n",
      " 0   Metrekare          1364 non-null   int64\n",
      " 1   Oda                1364 non-null   int64\n",
      " 2   Kat                1364 non-null   int64\n",
      " 3   Fiyat              1364 non-null   int64\n",
      " 4   Konum_Balçova      1364 non-null   int64\n",
      " 5   Konum_Bayraklı     1364 non-null   int64\n",
      " 6   Konum_Bergama      1364 non-null   int64\n",
      " 7   Konum_Bornova      1364 non-null   int64\n",
      " 8   Konum_Buca         1364 non-null   int64\n",
      " 9   Konum_Dikili       1364 non-null   int64\n",
      " 10  Konum_Foça         1364 non-null   int64\n",
      " 11  Konum_Gaziemir     1364 non-null   int64\n",
      " 12  Konum_Güzelbahçe   1364 non-null   int64\n",
      " 13  Konum_Karabağlar   1364 non-null   int64\n",
      " 14  Konum_Karaburun    1364 non-null   int64\n",
      " 15  Konum_Karşıyaka    1364 non-null   int64\n",
      " 16  Konum_Kemalpaşa    1364 non-null   int64\n",
      " 17  Konum_Konak        1364 non-null   int64\n",
      " 18  Konum_Menderes     1364 non-null   int64\n",
      " 19  Konum_Menemen      1364 non-null   int64\n",
      " 20  Konum_Narlıdere    1364 non-null   int64\n",
      " 21  Konum_Seferihisar  1364 non-null   int64\n",
      " 22  Konum_Selçuk       1364 non-null   int64\n",
      " 23  Konum_Tire         1364 non-null   int64\n",
      " 24  Konum_Torbalı      1364 non-null   int64\n",
      " 25  Konum_Urla         1364 non-null   int64\n",
      " 26  Konum_Çeşme        1364 non-null   int64\n",
      " 27  Konum_Çiğli        1364 non-null   int64\n",
      " 28  Konum_Ödemiş       1364 non-null   int64\n",
      "dtypes: int64(29)\n",
      "memory usage: 309.2 KB\n",
      "None\n",
      "Training R-squared: 0.9248\n",
      "Test R-squared: 0.0581\n"
     ]
    }
   ],
   "source": [
    "#Decision Tree Model\n",
    "from sklearn.tree import DecisionTreeRegressor\n",
    "\n",
    "veri_seti = pd.read_csv('IslenmisVeri.csv')\n",
    "\n",
    "# Veriyi inceleyin\n",
    "print(veri_seti.info())\n",
    "\n",
    "# Bağımsız değişkenleri (X) ve bağımlı değişkeni (y) belirleyin\n",
    "X = veri_seti.drop('Fiyat', axis=1)\n",
    "y = veri_seti['Fiyat']\n",
    "\n",
    "# Eksik değerleri ortalama ile doldurun (X için)\n",
    "imputer_X = SimpleImputer(strategy='mean')\n",
    "X_imputed = imputer_X.fit_transform(X)\n",
    "\n",
    "# Eksik değerleri ortalama ile doldurun (y için)\n",
    "imputer_y = SimpleImputer(strategy='mean')\n",
    "y_imputed = imputer_y.fit_transform(y.values.reshape(-1, 1)).flatten()\n",
    "\n",
    "# Verileri eğitim ve test setlerine bölin\n",
    "X_train, X_test, y_train, y_test = train_test_split(X_imputed, y_imputed, test_size=0.2, random_state=42)\n",
    "\n",
    "# Decision Tree modelini oluşturun ve eğitin\n",
    "model = DecisionTreeRegressor(random_state=42)\n",
    "model.fit(X_train, y_train)\n",
    "\n",
    "# Eğitim seti üzerinde tahmin yapın\n",
    "y_train_pred = model.predict(X_train)\n",
    "\n",
    "# Test seti üzerinde tahmin yapın\n",
    "y_test_pred = model.predict(X_test)\n",
    "\n",
    "# R-squared değerini hesaplayın\n",
    "r2_train = r2_score(y_train, y_train_pred)\n",
    "r2_test = r2_score(y_test, y_test_pred)\n",
    "\n",
    "# Sonuçları ekrana yazdırın\n",
    "print(f'Training R-squared: {r2_train:.4f}')\n",
    "print(f'Test R-squared: {r2_test:.4f}')"
   ]
  },
  {
   "cell_type": "code",
   "execution_count": 3,
   "id": "4f3d7509",
   "metadata": {},
   "outputs": [
    {
     "name": "stdout",
     "output_type": "stream",
     "text": [
      "Random Forest - Training R-squared: 0.8642\n",
      "Random Forest - Test R-squared: 0.4438\n"
     ]
    }
   ],
   "source": [
    "# Random Forest Regressor\n",
    "\n",
    "from sklearn.ensemble import RandomForestRegressor\n",
    "\n",
    "model_random_forest = RandomForestRegressor(random_state=42)\n",
    "model_random_forest.fit(X_train, y_train)\n",
    "\n",
    "y_train_pred_rf = model_random_forest.predict(X_train)\n",
    "\n",
    "y_test_pred_rf = model_random_forest.predict(X_test)\n",
    "\n",
    "r2_train_rf = r2_score(y_train, y_train_pred_rf)\n",
    "r2_test_rf = r2_score(y_test, y_test_pred_rf)\n",
    "\n",
    "print(f'Random Forest - Training R-squared: {r2_train_rf:.4f}')\n",
    "print(f'Random Forest - Test R-squared: {r2_test_rf:.4f}')"
   ]
  },
  {
   "cell_type": "code",
   "execution_count": 4,
   "id": "02b55de9",
   "metadata": {},
   "outputs": [
    {
     "name": "stdout",
     "output_type": "stream",
     "text": [
      "SVM - Training R-squared: -0.0596\n",
      "SVM - Test R-squared: -0.0547\n"
     ]
    }
   ],
   "source": [
    "# Support Vector Machine Regressor\n",
    "from sklearn.svm import SVR\n",
    "from sklearn.preprocessing import StandardScaler\n",
    "\n",
    "scaler = StandardScaler()\n",
    "X_train_scaled = scaler.fit_transform(X_train)\n",
    "X_test_scaled = scaler.transform(X_test)\n",
    "\n",
    "model_svm = SVR()\n",
    "model_svm.fit(X_train_scaled, y_train)\n",
    "\n",
    "y_train_pred_svm = model_svm.predict(X_train_scaled)\n",
    "\n",
    "y_test_pred_svm = model_svm.predict(X_test_scaled)\n",
    "\n",
    "r2_train_svm = r2_score(y_train, y_train_pred_svm)\n",
    "r2_test_svm = r2_score(y_test, y_test_pred_svm)\n",
    "\n",
    "print(f'SVM - Training R-squared: {r2_train_svm:.4f}')\n",
    "print(f'SVM - Test R-squared: {r2_test_svm:.4f}')"
   ]
  },
  {
   "cell_type": "code",
   "execution_count": 5,
   "id": "e1d38b0d",
   "metadata": {},
   "outputs": [
    {
     "name": "stdout",
     "output_type": "stream",
     "text": [
      "KNN - Training R-squared: 0.6216\n",
      "KNN - Test R-squared: 0.3211\n"
     ]
    }
   ],
   "source": [
    "# K-Nearest Neighbors Regressor\n",
    "from sklearn.neighbors import KNeighborsRegressor\n",
    "\n",
    "model_knn = KNeighborsRegressor()\n",
    "model_knn.fit(X_train_scaled, y_train)\n",
    "\n",
    "y_train_pred_knn = model_knn.predict(X_train_scaled)\n",
    "\n",
    "y_test_pred_knn = model_knn.predict(X_test_scaled)\n",
    "\n",
    "r2_train_knn = r2_score(y_train, y_train_pred_knn)\n",
    "r2_test_knn = r2_score(y_test, y_test_pred_knn)\n",
    "\n",
    "print(f'KNN - Training R-squared: {r2_train_knn:.4f}')\n",
    "print(f'KNN - Test R-squared: {r2_test_knn:.4f}')"
   ]
  },
  {
   "cell_type": "code",
   "execution_count": null,
   "id": "ba279329",
   "metadata": {},
   "outputs": [],
   "source": [
    "# Gradient Boosting Regressor. Tahmin yaparken model olarak bunu kullaniyoruz.\n",
    "import pandas as pd\n",
    "from sklearn.model_selection import train_test_split\n",
    "from sklearn.ensemble import GradientBoostingRegressor\n",
    "from sklearn.metrics import r2_score\n",
    "import joblib\n",
    "\n",
    "data = pd.read_csv('IslenmisVeri.csv')\n",
    "\n",
    "X = data.drop('Fiyat', axis=1)\n",
    "y = data['Fiyat']\n",
    "\n",
    "X_train, X_test, y_train, y_test = train_test_split(X, y, test_size=0.2, random_state=42)\n",
    "\n",
    "model_gradient_boosting = GradientBoostingRegressor(random_state=42)\n",
    "model_gradient_boosting.fit(X_train, y_train)\n",
    "\n",
    "y_train_pred_gb = model_gradient_boosting.predict(X_train)\n",
    "\n",
    "y_test_pred_gb = model_gradient_boosting.predict(X_test)\n",
    "\n",
    "r2_train_gb = r2_score(y_train, y_train_pred_gb)\n",
    "r2_test_gb = r2_score(y_test, y_test_pred_gb)\n",
    "\n",
    "joblib.dump(model_gradient_boosting, 'gradient_boosting_model.pkl')\n",
    "\n",
    "loaded_model_gb = joblib.load('gradient_boosting_model.pkl')\n",
    "\n",
    "y_test_pred_loaded_gb = loaded_model_gb.predict(X_test)\n",
    "\n",
    "r2_test_loaded_gb = r2_score(y_test, y_test_pred_loaded_gb)\n",
    "\n",
    "print(f'Gradient Boosting - Training R-squared: {r2_train_gb:.4f}')\n",
    "print(f'Gradient Boosting - Test R-squared: {r2_test_gb:.4f}')\n",
    "\n",
    "print(f'Gradient Boosting (Loaded) - Test R-squared: {r2_test_loaded_gb:.4f}')"
   ]
  },
  {
   "cell_type": "code",
   "execution_count": 6,
   "id": "03a240d0",
   "metadata": {},
   "outputs": [
    {
     "name": "stdout",
     "output_type": "stream",
     "text": [
      "Linear SVR - Training R-squared: -2.4463\n",
      "Linear SVR - Test R-squared: -2.3891\n"
     ]
    },
    {
     "name": "stderr",
     "output_type": "stream",
     "text": [
      "C:\\Users\\Alperen\\anaconda3\\Lib\\site-packages\\sklearn\\svm\\_classes.py:32: FutureWarning: The default value of `dual` will change from `True` to `'auto'` in 1.5. Set the value of `dual` explicitly to suppress the warning.\n",
      "  warnings.warn(\n"
     ]
    }
   ],
   "source": [
    "# Linear Support Vector Regression \n",
    "from sklearn.svm import LinearSVR\n",
    "from sklearn.preprocessing import StandardScaler\n",
    "\n",
    "scaler = StandardScaler()\n",
    "X_train_scaled = scaler.fit_transform(X_train)\n",
    "X_test_scaled = scaler.transform(X_test)\n",
    "\n",
    "model_linear_svr = LinearSVR(random_state=42)\n",
    "model_linear_svr.fit(X_train_scaled, y_train)\n",
    "\n",
    "y_train_pred_linear_svr = model_linear_svr.predict(X_train_scaled)\n",
    "\n",
    "y_test_pred_linear_svr = model_linear_svr.predict(X_test_scaled)\n",
    "\n",
    "r2_train_linear_svr = r2_score(y_train, y_train_pred_linear_svr)\n",
    "r2_test_linear_svr = r2_score(y_test, y_test_pred_linear_svr)\n",
    "\n",
    "print(f'Linear SVR - Training R-squared: {r2_train_linear_svr:.4f}')\n",
    "print(f'Linear SVR - Test R-squared: {r2_test_linear_svr:.4f}')"
   ]
  },
  {
   "cell_type": "code",
   "execution_count": null,
   "id": "9bf559c6",
   "metadata": {},
   "outputs": [],
   "source": []
  }
 ],
 "metadata": {
  "kernelspec": {
   "display_name": "Python 3 (ipykernel)",
   "language": "python",
   "name": "python3"
  },
  "language_info": {
   "codemirror_mode": {
    "name": "ipython",
    "version": 3
   },
   "file_extension": ".py",
   "mimetype": "text/x-python",
   "name": "python",
   "nbconvert_exporter": "python",
   "pygments_lexer": "ipython3",
   "version": "3.11.5"
  }
 },
 "nbformat": 4,
 "nbformat_minor": 5
}
